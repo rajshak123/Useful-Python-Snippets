{
 "cells": [
  {
   "cell_type": "code",
   "execution_count": 14,
   "metadata": {},
   "outputs": [
    {
     "name": "stdout",
     "output_type": "stream",
     "text": [
      "The Pearson score is -0.39430240433716823\n"
     ]
    }
   ],
   "source": [
    "# Comparing Texts Using Similarity Scores\n",
    "import re\n",
    "import string\n",
    "from math import sqrt\n",
    "from math import pow\n",
    "treasure = {}\n",
    "paradise = {}\n",
    "filelist = ['treasure island.txt', 'paradise lost.txt']\n",
    "stopfile = open('stop.txt','r')\n",
    "stop_list = stopfile.readlines()\n",
    "stopfile.close()\n",
    "phraseform = re.compile(r'^[a-z]+ [a-z ]+$')\n",
    "for filename in filelist:\n",
    "    in_text = open(filename, 'r')\n",
    "    in_text_string = in_text.read()\n",
    "    in_text.close()\n",
    "    in_text_string = in_text_string.replace('\\n',' ')\n",
    "    for stopword in stop_list:\n",
    "        stopword = str.rstrip(stopword)\n",
    "        in_text_string = re.sub(r' *\\b' + stopword + r'\\b *','\\n',in_text_string)\n",
    "    in_text_string = re.sub(r'[\\,\\:\\;\\(\\)]','\\n',in_text_string)\n",
    "    in_text_string = re.sub(r'[\\.\\!\\?] +(?=[A-Z])', '\\n',in_text_string)\n",
    "    in_text_string = str.lower(in_text_string)\n",
    "    item_list = re.split(r' *\\n *', in_text_string)\n",
    "    for phrase in item_list:\n",
    "        phrase = re.sub(r' +',' ' , phrase)\n",
    "        phrase = str.strip(phrase)\n",
    "        phrasematch = phraseform.match(phrase)\n",
    "        if not (phrasematch):\n",
    "            continue\n",
    "        if (filename == 'paradise lost.txt'):\n",
    "            if phrase in paradise:\n",
    "                paradise[phrase] = paradise[phrase] + 1\n",
    "            else:\n",
    "                paradise[phrase] = 1\n",
    "            if phrase not in treasure:\n",
    "                treasure[phrase] = 0\n",
    "        if (filename == 'treasure island.txt'):\n",
    "            if phrase in treasure:\n",
    "                treasure[phrase] = treasure[phrase] + 1\n",
    "            else:\n",
    "                treasure[phrase] = 1\n",
    "            if phrase not in paradise:\n",
    "                paradise[phrase] = 0\n",
    "count = 0; sumtally1 = 0; sumtally2 = 0; sqtally1 = 0; sqtally2 = 0\n",
    "prodtally12 = 0; part1 = 0; part2 = 0; part3 = 0;\n",
    "keylist = paradise.keys()\n",
    "\n",
    "for key in keylist:\n",
    "    count = count + 1;\n",
    "    \n",
    "    sumtally1 = sumtally1 + paradise[key]\n",
    "    sumtally2 = sumtally2 + treasure[key]\n",
    "    sqtally1 = sqtally1 + pow(paradise[key],2)\n",
    "    sqtally2 = sqtally2 + pow(treasure[key],2)\n",
    "    prodtally12 = prodtally12 + (paradise[key] * treasure[key])\n",
    "\n",
    "part1 = prodtally12 - (float(sumtally1 * sumtally2) / count)\n",
    "part2 = sqtally1 - (float(pow(sumtally1,2)) / count)\n",
    "part3 = sqtally2 - (float(pow(sumtally2,2)) / count)\n",
    "similarity12 = float(part1) / float(sqrt(part2 * part3))\n",
    "print('The Pearson score is', similarity12)\n"
   ]
  },
  {
   "cell_type": "code",
   "execution_count": null,
   "metadata": {
    "collapsed": true
   },
   "outputs": [],
   "source": []
  }
 ],
 "metadata": {
  "kernelspec": {
   "display_name": "Python 3",
   "language": "python",
   "name": "python3"
  },
  "language_info": {
   "codemirror_mode": {
    "name": "ipython",
    "version": 3
   },
   "file_extension": ".py",
   "mimetype": "text/x-python",
   "name": "python",
   "nbconvert_exporter": "python",
   "pygments_lexer": "ipython3",
   "version": "3.6.2"
  }
 },
 "nbformat": 4,
 "nbformat_minor": 2
}
