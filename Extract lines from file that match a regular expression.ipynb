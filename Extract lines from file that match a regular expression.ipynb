{
 "cells": [
  {
   "cell_type": "code",
   "execution_count": 4,
   "metadata": {},
   "outputs": [
    {
     "name": "stdout",
     "output_type": "stream",
     "text": [
      "What file would you like to search?\n",
      "gdp.csv\n",
      "Enter a word, phrase or regular expression to search.\n",
      "aus\n",
      "Australia,\"Gross domestic product per capita, current prices\",U.S. dollars,Units,\"See notes for:  Gross domestic product, current prices (National currency) Population (Persons).\",\"50,961.87\",2014\n",
      "\n",
      "Austria,\"Gross domestic product per capita, current prices\",U.S. dollars,Units,\"See notes for:  Gross domestic product, current prices (National currency) Population (Persons).\",\"43,724.03\",2015\n",
      "\n"
     ]
    }
   ],
   "source": [
    "# Extracting Lines that Match a Regular Expression\n",
    "#!/usr/local/bin/python\n",
    "import sys\n",
    "import string\n",
    "import re\n",
    "print('What file would you like to search?')\n",
    "filename = input()\n",
    "filename = filename.rstrip()\n",
    "print('Enter a word, phrase or regular expression to search.')\n",
    "regex = input()\n",
    "regex = regex.rstrip()\n",
    "infile = open (filename, 'r')\n",
    "outfile = open ('result.txt', 'a+')\n",
    "regex_object = re.compile(regex, re.I)\n",
    "for line in infile:\n",
    "    m= regex_object.search(line)\n",
    "    if m:\n",
    "        print(line)\n",
    "        outfile.write(line)\n",
    "outfile.close()"
   ]
  },
  {
   "cell_type": "code",
   "execution_count": null,
   "metadata": {
    "collapsed": true
   },
   "outputs": [],
   "source": []
  }
 ],
 "metadata": {
  "kernelspec": {
   "display_name": "Python 3",
   "language": "python",
   "name": "python3"
  },
  "language_info": {
   "codemirror_mode": {
    "name": "ipython",
    "version": 3
   },
   "file_extension": ".py",
   "mimetype": "text/x-python",
   "name": "python",
   "nbconvert_exporter": "python",
   "pygments_lexer": "ipython3",
   "version": "3.6.2"
  }
 },
 "nbformat": 4,
 "nbformat_minor": 2
}
