{
 "cells": [
  {
   "cell_type": "code",
   "execution_count": 1,
   "metadata": {
    "collapsed": true
   },
   "outputs": [],
   "source": [
    "#  ZIPF Distribution of a Text File\n",
    "#  In almost every segment of life, a small number of items usually account for the bulk\n",
    "#  of the observed activities.\n",
    "# A small\n",
    "# number of diseases account for the bulk of deaths (think cardiovascular disease and\n",
    "# cancer). A few phyla account for the bulk of the diversity of animals on earth (think\n",
    "# arthropods). A few hundred words account for the bulk of all word occurrences in\n",
    "# literature (think in, be, a, an, the, are). This phenomenon was observed and described\n",
    "# by George Kingsley Zipf, who devised Zipf’s law as a mathematical description."
   ]
  },
  {
   "cell_type": "code",
   "execution_count": 2,
   "metadata": {
    "collapsed": true
   },
   "outputs": [],
   "source": [
    "import urllib.request"
   ]
  },
  {
   "cell_type": "code",
   "execution_count": 13,
   "metadata": {
    "collapsed": true
   },
   "outputs": [],
   "source": [
    "url='ftp://nlmpubs.nlm.nih.gov/online/mesh/MESH_FILES/asciimesh/d2018.bin'\n",
    "response=urllib.request.urlopen(url)\n",
    "data=response.read().decode('utf-8')"
   ]
  },
  {
   "cell_type": "code",
   "execution_count": null,
   "metadata": {},
   "outputs": [],
   "source": [
    "\n"
   ]
  },
  {
   "cell_type": "code",
   "execution_count": 18,
   "metadata": {},
   "outputs": [
    {
     "data": {
      "text/plain": [
       "1417609"
      ]
     },
     "execution_count": 18,
     "metadata": {},
     "output_type": "execute_result"
    }
   ],
   "source": [
    "import re\n",
    "import string\n",
    "word_list = []\n",
    "freq_list = []\n",
    "format_list = []\n",
    "freq = {}\n",
    "import re\n",
    "import string\n",
    "word_list = []\n",
    "freq_list = []\n",
    "format_list = []\n",
    "freq = {}\n",
    "\n",
    "out_text = open('meshzipf.txt','a+')\n",
    "word_list = re.findall(r'(\\b[A-Za-z][a-z]{2,15}\\b)', data)\n",
    "in_text_string = ''\n",
    "for item in word_list:\n",
    "    count = freq.get(item,0)\n",
    "    freq[item] = count + 1\n",
    "for key, value in freq.items():\n",
    "    value = '000000' + str(value)\n",
    "    value = value[-6:]\n",
    "    format_list += [value + ' '  + key]\n",
    "format_list = reversed(sorted(format_list))\n",
    "out_text.write('\\n'.join(format_list))\n",
    "out_text.close()"
   ]
  },
  {
   "cell_type": "code",
   "execution_count": null,
   "metadata": {
    "collapsed": true
   },
   "outputs": [],
   "source": []
  }
 ],
 "metadata": {
  "kernelspec": {
   "display_name": "Python 3",
   "language": "python",
   "name": "python3"
  },
  "language_info": {
   "codemirror_mode": {
    "name": "ipython",
    "version": 3
   },
   "file_extension": ".py",
   "mimetype": "text/x-python",
   "name": "python",
   "nbconvert_exporter": "python",
   "pygments_lexer": "ipython3",
   "version": "3.6.2"
  }
 },
 "nbformat": 4,
 "nbformat_minor": 2
}
