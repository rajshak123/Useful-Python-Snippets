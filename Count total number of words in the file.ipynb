{
 "cells": [
  {
   "cell_type": "code",
   "execution_count": 6,
   "metadata": {},
   "outputs": [
    {
     "name": "stdout",
     "output_type": "stream",
     "text": [
      "Enter the path of the file to be openedC:\\Users\\rs\\Desktop\\machine learning\\rt\\New Text Document (2).txt\n",
      "4\n"
     ]
    }
   ],
   "source": [
    "# Counting the Words in a File\n",
    "#!/usr/local/bin/python\n",
    "import re\n",
    "import string\n",
    "total = 0\n",
    "line_list = []\n",
    "line_reduced = []\n",
    "path=input('Enter the path of the file to be opened')\n",
    "in_text = open(path, 'r')\n",
    "for line in in_text:\n",
    "    line_list = re.split(r'[ \\n]+',line)\n",
    "    line_reduced = [var for var in line_list if var != '']\n",
    "    total = total + len(line_reduced)\n",
    "print(total)"
   ]
  },
  {
   "cell_type": "code",
   "execution_count": null,
   "metadata": {
    "collapsed": true
   },
   "outputs": [],
   "source": []
  }
 ],
 "metadata": {
  "kernelspec": {
   "display_name": "Python 3",
   "language": "python",
   "name": "python3"
  },
  "language_info": {
   "codemirror_mode": {
    "name": "ipython",
    "version": 3
   },
   "file_extension": ".py",
   "mimetype": "text/x-python",
   "name": "python",
   "nbconvert_exporter": "python",
   "pygments_lexer": "ipython3",
   "version": "3.6.2"
  }
 },
 "nbformat": 4,
 "nbformat_minor": 2
}
