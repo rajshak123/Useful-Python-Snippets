{
 "cells": [
  {
   "cell_type": "code",
   "execution_count": 12,
   "metadata": {},
   "outputs": [
    {
     "name": "stdout",
     "output_type": "stream",
     "text": [
      "Enter the path to the fileC:\\Users\\rs\\Desktop\\python\\jupyter\\result.txt\n"
     ]
    }
   ],
   "source": [
    "# Making a Word List with Occurrence Tally\n",
    "#!/usr/local/bin/python\n",
    "import re\n",
    "import string\n",
    "word_list = []\n",
    "freq_list = []\n",
    "freq = {}\n",
    "path=input('Enter the path to the file')\n",
    "in_text = open(path, 'r')\n",
    "in_text_string = in_text.read()\n",
    "out_text = open('omimword.txt', 'a+')\n",
    "in_text_string = str.lower(in_text_string)\n",
    "word_list = re.findall(r'(\\b[a-z]{3,15}\\b)', in_text_string)\n",
    "for item in word_list:\n",
    "    count = freq.get(item,0)\n",
    "    freq[item] = count + 1\n",
    "freq_list = freq.keys()\n",
    "sort_list = sorted(freq_list)\n",
    "for i in sort_list:\n",
    "    s=str(i)+' '+str(freq[i])\n",
    "    out_text.write(s+'\\n')\n",
    "out_text.close()"
   ]
  },
  {
   "cell_type": "code",
   "execution_count": null,
   "metadata": {
    "collapsed": true
   },
   "outputs": [],
   "source": []
  }
 ],
 "metadata": {
  "kernelspec": {
   "display_name": "Python 3",
   "language": "python",
   "name": "python3"
  },
  "language_info": {
   "codemirror_mode": {
    "name": "ipython",
    "version": 3
   },
   "file_extension": ".py",
   "mimetype": "text/x-python",
   "name": "python",
   "nbconvert_exporter": "python",
   "pygments_lexer": "ipython3",
   "version": "3.6.2"
  }
 },
 "nbformat": 4,
 "nbformat_minor": 2
}
