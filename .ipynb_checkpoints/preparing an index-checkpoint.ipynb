{
 "cells": [
  {
   "cell_type": "code",
   "execution_count": 10,
   "metadata": {},
   "outputs": [
    {
     "name": "stdout",
     "output_type": "stream",
     "text": [
      "Enter the path to the fileC:\\Users\\rs\\Desktop\\python\\jupyter\\meshzipf.txt\n"
     ]
    },
    {
     "ename": "TypeError",
     "evalue": "descriptor 'translate' requires a 'str' object but received a 'dict'",
     "output_type": "error",
     "traceback": [
      "\u001b[1;31m---------------------------------------------------------------------------\u001b[0m",
      "\u001b[1;31mTypeError\u001b[0m                                 Traceback (most recent call last)",
      "\u001b[1;32m<ipython-input-10-beba530a987f>\u001b[0m in \u001b[0;36m<module>\u001b[1;34m()\u001b[0m\n\u001b[0;32m     15\u001b[0m \u001b[0msentence_list\u001b[0m \u001b[1;33m=\u001b[0m \u001b[0mre\u001b[0m\u001b[1;33m.\u001b[0m\u001b[0msplit\u001b[0m\u001b[1;33m(\u001b[0m\u001b[1;34mr'[\\.\\!\\?] +(?=[A-Z])'\u001b[0m\u001b[1;33m,\u001b[0m\u001b[0min_text_string\u001b[0m\u001b[1;33m)\u001b[0m\u001b[1;33m\u001b[0m\u001b[0m\n\u001b[0;32m     16\u001b[0m \u001b[0mnorm\u001b[0m \u001b[1;33m=\u001b[0m \u001b[0mstr\u001b[0m\u001b[1;33m.\u001b[0m\u001b[0mmaketrans\u001b[0m\u001b[1;33m(\u001b[0m\u001b[1;34m''\u001b[0m\u001b[1;33m,\u001b[0m\u001b[1;34m''\u001b[0m\u001b[1;33m)\u001b[0m\u001b[1;33m\u001b[0m\u001b[0m\n\u001b[1;32m---> 17\u001b[1;33m \u001b[0mbadascii\u001b[0m \u001b[1;33m=\u001b[0m \u001b[0mstr\u001b[0m\u001b[1;33m.\u001b[0m\u001b[0mtranslate\u001b[0m\u001b[1;33m(\u001b[0m\u001b[0mnorm\u001b[0m\u001b[1;33m,\u001b[0m\u001b[0mnorm\u001b[0m\u001b[1;33m,\u001b[0m\u001b[0mstring\u001b[0m\u001b[1;33m.\u001b[0m\u001b[0mprintable\u001b[0m\u001b[1;33m)\u001b[0m\u001b[1;33m\u001b[0m\u001b[0m\n\u001b[0m\u001b[0;32m     18\u001b[0m \u001b[0mbadascii_table\u001b[0m \u001b[1;33m=\u001b[0m \u001b[0mbadascii\u001b[0m \u001b[1;33m+\u001b[0m \u001b[1;33m(\u001b[0m\u001b[1;36m256\u001b[0m \u001b[1;33m-\u001b[0m \u001b[0mlen\u001b[0m\u001b[1;33m(\u001b[0m\u001b[0mbadascii\u001b[0m\u001b[1;33m)\u001b[0m\u001b[1;33m)\u001b[0m\u001b[1;33m*\u001b[0m\u001b[1;34m' '\u001b[0m\u001b[1;33m\u001b[0m\u001b[0m\n\u001b[0;32m     19\u001b[0m \u001b[0mjunk_table\u001b[0m \u001b[1;33m=\u001b[0m \u001b[1;36m256\u001b[0m\u001b[1;33m*\u001b[0m\u001b[1;34m' '\u001b[0m\u001b[1;33m\u001b[0m\u001b[0m\n",
      "\u001b[1;31mTypeError\u001b[0m: descriptor 'translate' requires a 'str' object but received a 'dict'"
     ]
    }
   ],
   "source": [
    "# Preparing an Index\n",
    "import re\n",
    "import string\n",
    "item_list = []\n",
    "item_dictionary = {}\n",
    "place_string = ''\n",
    "# stopfile = open('stop.txt','r')\n",
    "# stop_list = stopfile.readlines()\n",
    "# stopfile.close()\n",
    "path=input('Enter the path to the file')\n",
    "in_text = open(path, 'r')\n",
    "in_text_string = in_text.read()\n",
    "in_text_string = in_text_string.replace('\\n',' ')\n",
    "in_text_string = in_text_string.replace(' +',' ')\n",
    "sentence_list = re.split(r'[\\.\\!\\?] +(?=[A-Z])',in_text_string)\n",
    "norm = str.maketrans('','')\n",
    "badascii = str.translate(norm,norm,string.printable)\n",
    "badascii_table = badascii + (256 - len(badascii))*' '\n",
    "junk_table = 256*' '\n",
    "table = str.maketrans(badascii_table,junk_table)\n",
    "count = 0\n",
    "for item in sentence_list:\n",
    "    count = count + 1\n",
    "    count_string = str(count)\n",
    "    item = str.lower(item)\n",
    "    item = re.sub(r'\\s', '', item)\n",
    "    item = item.translate(table)\n",
    "    for stopword in stop_list:\n",
    "        stopword = string.rstrip(stopword)\n",
    "        item = re.sub(r' *\\b' + stopword + r'\\b *', '\\n', item)\n",
    "    item_list = item.split('\\n')\n",
    "    for phrase in item_list:\n",
    "        phrasematch = re.match(r'^[0-9]', phrase)\n",
    "        if (phrasematch):\n",
    "            continue\n",
    "        if item_dictionary.has_key(phrase):\n",
    "            item_dictionary[phrase] = item_dictionary[phrase] + ',' +count_string\n",
    "        else:\n",
    "            item_dictionary[phrase] = count_string\n",
    "keylist = item_dictionary.keys()\n",
    "keylist.sort()\n",
    "for key in keylist:\n",
    "    print(key, item_dictionary[key])"
   ]
  },
  {
   "cell_type": "code",
   "execution_count": null,
   "metadata": {
    "collapsed": true
   },
   "outputs": [],
   "source": []
  }
 ],
 "metadata": {
  "kernelspec": {
   "display_name": "Python 3",
   "language": "python",
   "name": "python3"
  },
  "language_info": {
   "codemirror_mode": {
    "name": "ipython",
    "version": 3
   },
   "file_extension": ".py",
   "mimetype": "text/x-python",
   "name": "python",
   "nbconvert_exporter": "python",
   "pygments_lexer": "ipython3",
   "version": "3.6.2"
  }
 },
 "nbformat": 4,
 "nbformat_minor": 2
}
